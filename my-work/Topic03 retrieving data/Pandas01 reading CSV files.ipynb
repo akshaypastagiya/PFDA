{
 "cells": [
  {
   "cell_type": "markdown",
   "id": "d59690a3",
   "metadata": {},
   "source": [
    "# Pandas reading and Writing\n",
    "The main purpose of this notebook to get you to look at the pandas documenation  \n",
    "[pandas Docs](https://pandas.pydata.org/pandas-docs/stable/index.html)  \n",
    "\n",
    "#### Import the pandas\n",
    "and set the sample data directory and filename"
   ]
  },
  {
   "cell_type": "code",
   "execution_count": 228,
   "id": "eb8b2602",
   "metadata": {},
   "outputs": [],
   "source": [
    "import pandas as pd"
   ]
  },
  {
   "cell_type": "code",
   "execution_count": 229,
   "id": "47a486f2",
   "metadata": {},
   "outputs": [
    {
     "name": "stdout",
     "output_type": "stream",
     "text": [
      "bankholidays.json\t open-meteo-52.52N13.42E38m\\ (3).csv\n",
      "cso-populationbyage.csv  people-100-dirty.csv\n",
      "data.csv\t\t people-100-no-header.csv\n",
      "iris.csv\t\t people-100.csv\n",
      "iris.json\t\t projectedbirths-cso.csv\n",
      "iris.m\t\t\t students.csv\n",
      "iris.sql\t\t timetable.tsv\n",
      "numbers.txt\n"
     ]
    }
   ],
   "source": [
    "# just check the directory and file are there\n",
    "!dir \"../data\""
   ]
  },
  {
   "cell_type": "code",
   "execution_count": 230,
   "id": "8eddaa87",
   "metadata": {},
   "outputs": [],
   "source": [
    "# up one levels to topic03 and then down into data\n",
    "datadir = \"../data/\"\n",
    "filename=\"people-100.csv\""
   ]
  },
  {
   "cell_type": "markdown",
   "id": "59c4026a",
   "metadata": {},
   "source": [
    "#### Read in the csv file\n",
    "<code>df = pd.read_csv(file)</code>"
   ]
  },
  {
   "cell_type": "code",
   "execution_count": 231,
   "id": "e2ddf74a",
   "metadata": {},
   "outputs": [],
   "source": [
    "df= pd.read_csv(datadir+filename)"
   ]
  },
  {
   "cell_type": "markdown",
   "id": "ed77b9ec",
   "metadata": {},
   "source": [
    "check what you got using \n",
    "<code>df.head()</code>\n",
    "<code>df.info()</code>\n"
   ]
  },
  {
   "cell_type": "code",
   "execution_count": 232,
   "id": "059daaac",
   "metadata": {
    "scrolled": true
   },
   "outputs": [
    {
     "data": {
      "text/html": [
       "<div>\n",
       "<style scoped>\n",
       "    .dataframe tbody tr th:only-of-type {\n",
       "        vertical-align: middle;\n",
       "    }\n",
       "\n",
       "    .dataframe tbody tr th {\n",
       "        vertical-align: top;\n",
       "    }\n",
       "\n",
       "    .dataframe thead th {\n",
       "        text-align: right;\n",
       "    }\n",
       "</style>\n",
       "<table border=\"1\" class=\"dataframe\">\n",
       "  <thead>\n",
       "    <tr style=\"text-align: right;\">\n",
       "      <th></th>\n",
       "      <th>Index</th>\n",
       "      <th>User Id</th>\n",
       "      <th>First Name</th>\n",
       "      <th>Last Name</th>\n",
       "      <th>Sex</th>\n",
       "      <th>Email</th>\n",
       "      <th>Phone</th>\n",
       "      <th>Date of birth</th>\n",
       "      <th>Job Title</th>\n",
       "    </tr>\n",
       "  </thead>\n",
       "  <tbody>\n",
       "    <tr>\n",
       "      <th>0</th>\n",
       "      <td>1</td>\n",
       "      <td>88F7B33d2bcf9f5</td>\n",
       "      <td>Shelby</td>\n",
       "      <td>Terrell</td>\n",
       "      <td>Male</td>\n",
       "      <td>elijah57@example.net</td>\n",
       "      <td>001-084-906-7849x73518</td>\n",
       "      <td>1945-10-26</td>\n",
       "      <td>Games developer</td>\n",
       "    </tr>\n",
       "    <tr>\n",
       "      <th>1</th>\n",
       "      <td>2</td>\n",
       "      <td>f90cD3E76f1A9b9</td>\n",
       "      <td>Phillip</td>\n",
       "      <td>Summers</td>\n",
       "      <td>Female</td>\n",
       "      <td>bethany14@example.com</td>\n",
       "      <td>214.112.6044x4913</td>\n",
       "      <td>1910-03-24</td>\n",
       "      <td>Phytotherapist</td>\n",
       "    </tr>\n",
       "    <tr>\n",
       "      <th>2</th>\n",
       "      <td>3</td>\n",
       "      <td>DbeAb8CcdfeFC2c</td>\n",
       "      <td>Kristine</td>\n",
       "      <td>Travis</td>\n",
       "      <td>Male</td>\n",
       "      <td>bthompson@example.com</td>\n",
       "      <td>277.609.7938</td>\n",
       "      <td>1992-07-02</td>\n",
       "      <td>Homeopath</td>\n",
       "    </tr>\n",
       "    <tr>\n",
       "      <th>3</th>\n",
       "      <td>4</td>\n",
       "      <td>A31Bee3c201ef58</td>\n",
       "      <td>Yesenia</td>\n",
       "      <td>Martinez</td>\n",
       "      <td>Male</td>\n",
       "      <td>kaitlinkaiser@example.com</td>\n",
       "      <td>584.094.6111</td>\n",
       "      <td>2017-08-03</td>\n",
       "      <td>Market researcher</td>\n",
       "    </tr>\n",
       "    <tr>\n",
       "      <th>4</th>\n",
       "      <td>5</td>\n",
       "      <td>1bA7A3dc874da3c</td>\n",
       "      <td>Lori</td>\n",
       "      <td>Todd</td>\n",
       "      <td>Male</td>\n",
       "      <td>buchananmanuel@example.net</td>\n",
       "      <td>689-207-3558x7233</td>\n",
       "      <td>1938-12-01</td>\n",
       "      <td>Veterinary surgeon</td>\n",
       "    </tr>\n",
       "  </tbody>\n",
       "</table>\n",
       "</div>"
      ],
      "text/plain": [
       "   Index          User Id First Name Last Name     Sex  \\\n",
       "0      1  88F7B33d2bcf9f5     Shelby   Terrell    Male   \n",
       "1      2  f90cD3E76f1A9b9    Phillip   Summers  Female   \n",
       "2      3  DbeAb8CcdfeFC2c   Kristine    Travis    Male   \n",
       "3      4  A31Bee3c201ef58    Yesenia  Martinez    Male   \n",
       "4      5  1bA7A3dc874da3c       Lori      Todd    Male   \n",
       "\n",
       "                        Email                   Phone Date of birth  \\\n",
       "0        elijah57@example.net  001-084-906-7849x73518    1945-10-26   \n",
       "1       bethany14@example.com       214.112.6044x4913    1910-03-24   \n",
       "2       bthompson@example.com            277.609.7938    1992-07-02   \n",
       "3   kaitlinkaiser@example.com            584.094.6111    2017-08-03   \n",
       "4  buchananmanuel@example.net       689-207-3558x7233    1938-12-01   \n",
       "\n",
       "            Job Title  \n",
       "0     Games developer  \n",
       "1      Phytotherapist  \n",
       "2           Homeopath  \n",
       "3   Market researcher  \n",
       "4  Veterinary surgeon  "
      ]
     },
     "execution_count": 232,
     "metadata": {},
     "output_type": "execute_result"
    }
   ],
   "source": [
    "df.head()"
   ]
  },
  {
   "cell_type": "code",
   "execution_count": 233,
   "id": "92284fa0",
   "metadata": {},
   "outputs": [
    {
     "name": "stdout",
     "output_type": "stream",
     "text": [
      "<class 'pandas.core.frame.DataFrame'>\n",
      "RangeIndex: 100 entries, 0 to 99\n",
      "Data columns (total 9 columns):\n",
      " #   Column         Non-Null Count  Dtype \n",
      "---  ------         --------------  ----- \n",
      " 0   Index          100 non-null    int64 \n",
      " 1   User Id        100 non-null    object\n",
      " 2   First Name     100 non-null    object\n",
      " 3   Last Name      100 non-null    object\n",
      " 4   Sex            100 non-null    object\n",
      " 5   Email          100 non-null    object\n",
      " 6   Phone          100 non-null    object\n",
      " 7   Date of birth  100 non-null    object\n",
      " 8   Job Title      100 non-null    object\n",
      "dtypes: int64(1), object(8)\n",
      "memory usage: 7.2+ KB\n"
     ]
    }
   ],
   "source": [
    "df.info()"
   ]
  },
  {
   "cell_type": "markdown",
   "id": "009cfa80",
   "metadata": {},
   "source": [
    "### Reading in dates\n",
    "mmmm! I would like the Date of birth to be a date object  \n",
    "use\n",
    "<code>pd.read_csv(file, parse_dates=[colnum])</code>"
   ]
  },
  {
   "cell_type": "code",
   "execution_count": 234,
   "id": "c4a30864",
   "metadata": {},
   "outputs": [
    {
     "name": "stdout",
     "output_type": "stream",
     "text": [
      "<class 'pandas.core.frame.DataFrame'>\n",
      "RangeIndex: 100 entries, 0 to 99\n",
      "Data columns (total 9 columns):\n",
      " #   Column         Non-Null Count  Dtype         \n",
      "---  ------         --------------  -----         \n",
      " 0   Index          100 non-null    int64         \n",
      " 1   User Id        100 non-null    object        \n",
      " 2   First Name     100 non-null    object        \n",
      " 3   Last Name      100 non-null    object        \n",
      " 4   Sex            100 non-null    object        \n",
      " 5   Email          100 non-null    object        \n",
      " 6   Phone          100 non-null    object        \n",
      " 7   Date of birth  100 non-null    datetime64[ns]\n",
      " 8   Job Title      100 non-null    object        \n",
      "dtypes: datetime64[ns](1), int64(1), object(7)\n",
      "memory usage: 7.2+ KB\n"
     ]
    }
   ],
   "source": [
    "df = pd.read_csv(datadir+filename, parse_dates=['Date of birth'])\n",
    "df.info()"
   ]
  },
  {
   "cell_type": "markdown",
   "id": "33031994",
   "metadata": {},
   "source": [
    "### While I am here \n",
    "if you want to limit what columes are read in \n",
    "<code>header=[list of cols]</code>"
   ]
  },
  {
   "cell_type": "code",
   "execution_count": 235,
   "id": "5d633794",
   "metadata": {},
   "outputs": [
    {
     "data": {
      "text/html": [
       "<div>\n",
       "<style scoped>\n",
       "    .dataframe tbody tr th:only-of-type {\n",
       "        vertical-align: middle;\n",
       "    }\n",
       "\n",
       "    .dataframe tbody tr th {\n",
       "        vertical-align: top;\n",
       "    }\n",
       "\n",
       "    .dataframe thead th {\n",
       "        text-align: right;\n",
       "    }\n",
       "</style>\n",
       "<table border=\"1\" class=\"dataframe\">\n",
       "  <thead>\n",
       "    <tr style=\"text-align: right;\">\n",
       "      <th></th>\n",
       "      <th>First Name</th>\n",
       "      <th>Last Name</th>\n",
       "      <th>Email</th>\n",
       "      <th>Phone</th>\n",
       "      <th>Date of birth</th>\n",
       "    </tr>\n",
       "  </thead>\n",
       "  <tbody>\n",
       "    <tr>\n",
       "      <th>0</th>\n",
       "      <td>Shelby</td>\n",
       "      <td>Terrell</td>\n",
       "      <td>elijah57@example.net</td>\n",
       "      <td>001-084-906-7849x73518</td>\n",
       "      <td>1945-10-26</td>\n",
       "    </tr>\n",
       "    <tr>\n",
       "      <th>1</th>\n",
       "      <td>Phillip</td>\n",
       "      <td>Summers</td>\n",
       "      <td>bethany14@example.com</td>\n",
       "      <td>214.112.6044x4913</td>\n",
       "      <td>1910-03-24</td>\n",
       "    </tr>\n",
       "    <tr>\n",
       "      <th>2</th>\n",
       "      <td>Kristine</td>\n",
       "      <td>Travis</td>\n",
       "      <td>bthompson@example.com</td>\n",
       "      <td>277.609.7938</td>\n",
       "      <td>1992-07-02</td>\n",
       "    </tr>\n",
       "  </tbody>\n",
       "</table>\n",
       "</div>"
      ],
      "text/plain": [
       "  First Name Last Name                  Email                   Phone  \\\n",
       "0     Shelby   Terrell   elijah57@example.net  001-084-906-7849x73518   \n",
       "1    Phillip   Summers  bethany14@example.com       214.112.6044x4913   \n",
       "2   Kristine    Travis  bthompson@example.com            277.609.7938   \n",
       "\n",
       "  Date of birth  \n",
       "0    1945-10-26  \n",
       "1    1910-03-24  \n",
       "2    1992-07-02  "
      ]
     },
     "execution_count": 235,
     "metadata": {},
     "output_type": "execute_result"
    }
   ],
   "source": [
    "names_of_columns=['First Name', 'Last Name','Email','Phone', 'Date of birth']\n",
    "df = pd.read_csv(datadir+filename,  usecols=names_of_columns,)\n",
    "df.head(3)"
   ]
  },
  {
   "cell_type": "markdown",
   "id": "277c708f",
   "metadata": {},
   "source": [
    "### If there is not header row and you want to make names\n",
    "use \n",
    "<code>header</code> <code> names</code>\n",
    "use \n",
    "<code>index_col</code> to specifify the index Column"
   ]
  },
  {
   "cell_type": "code",
   "execution_count": 236,
   "id": "90c6340b",
   "metadata": {},
   "outputs": [],
   "source": [
    "filename=filename=\"people-100-no-header.csv\""
   ]
  },
  {
   "cell_type": "code",
   "execution_count": 237,
   "id": "71138d66",
   "metadata": {},
   "outputs": [
    {
     "data": {
      "text/html": [
       "<div>\n",
       "<style scoped>\n",
       "    .dataframe tbody tr th:only-of-type {\n",
       "        vertical-align: middle;\n",
       "    }\n",
       "\n",
       "    .dataframe tbody tr th {\n",
       "        vertical-align: top;\n",
       "    }\n",
       "\n",
       "    .dataframe thead th {\n",
       "        text-align: right;\n",
       "    }\n",
       "</style>\n",
       "<table border=\"1\" class=\"dataframe\">\n",
       "  <thead>\n",
       "    <tr style=\"text-align: right;\">\n",
       "      <th></th>\n",
       "      <th>1</th>\n",
       "      <th>88F7B33d2bcf9f5</th>\n",
       "      <th>Shelby</th>\n",
       "      <th>Terrell</th>\n",
       "      <th>Male</th>\n",
       "      <th>elijah57@example.net</th>\n",
       "      <th>001-084-906-7849x73518</th>\n",
       "      <th>1945-10-26</th>\n",
       "      <th>Games developer</th>\n",
       "    </tr>\n",
       "  </thead>\n",
       "  <tbody>\n",
       "    <tr>\n",
       "      <th>0</th>\n",
       "      <td>2</td>\n",
       "      <td>f90cD3E76f1A9b9</td>\n",
       "      <td>Phillip</td>\n",
       "      <td>Summers</td>\n",
       "      <td>Female</td>\n",
       "      <td>bethany14@example.com</td>\n",
       "      <td>214.112.6044x4913</td>\n",
       "      <td>1910-03-24</td>\n",
       "      <td>Phytotherapist</td>\n",
       "    </tr>\n",
       "    <tr>\n",
       "      <th>1</th>\n",
       "      <td>3</td>\n",
       "      <td>DbeAb8CcdfeFC2c</td>\n",
       "      <td>Kristine</td>\n",
       "      <td>Travis</td>\n",
       "      <td>Male</td>\n",
       "      <td>bthompson@example.com</td>\n",
       "      <td>277.609.7938</td>\n",
       "      <td>1992-07-02</td>\n",
       "      <td>Homeopath</td>\n",
       "    </tr>\n",
       "    <tr>\n",
       "      <th>2</th>\n",
       "      <td>4</td>\n",
       "      <td>A31Bee3c201ef58</td>\n",
       "      <td>Yesenia</td>\n",
       "      <td>Martinez</td>\n",
       "      <td>Male</td>\n",
       "      <td>kaitlinkaiser@example.com</td>\n",
       "      <td>584.094.6111</td>\n",
       "      <td>2017-08-03</td>\n",
       "      <td>Market researcher</td>\n",
       "    </tr>\n",
       "  </tbody>\n",
       "</table>\n",
       "</div>"
      ],
      "text/plain": [
       "   1  88F7B33d2bcf9f5    Shelby   Terrell    Male       elijah57@example.net  \\\n",
       "0  2  f90cD3E76f1A9b9   Phillip   Summers  Female      bethany14@example.com   \n",
       "1  3  DbeAb8CcdfeFC2c  Kristine    Travis    Male      bthompson@example.com   \n",
       "2  4  A31Bee3c201ef58   Yesenia  Martinez    Male  kaitlinkaiser@example.com   \n",
       "\n",
       "  001-084-906-7849x73518  1945-10-26    Games developer  \n",
       "0      214.112.6044x4913  1910-03-24     Phytotherapist  \n",
       "1           277.609.7938  1992-07-02          Homeopath  \n",
       "2           584.094.6111  2017-08-03  Market researcher  "
      ]
     },
     "execution_count": 237,
     "metadata": {},
     "output_type": "execute_result"
    }
   ],
   "source": [
    "df= pd.read_csv(datadir+filename)\n",
    "df.head(3)"
   ]
  },
  {
   "cell_type": "code",
   "execution_count": 238,
   "id": "1b26f7f3",
   "metadata": {
    "scrolled": true
   },
   "outputs": [
    {
     "data": {
      "text/html": [
       "<div>\n",
       "<style scoped>\n",
       "    .dataframe tbody tr th:only-of-type {\n",
       "        vertical-align: middle;\n",
       "    }\n",
       "\n",
       "    .dataframe tbody tr th {\n",
       "        vertical-align: top;\n",
       "    }\n",
       "\n",
       "    .dataframe thead th {\n",
       "        text-align: right;\n",
       "    }\n",
       "</style>\n",
       "<table border=\"1\" class=\"dataframe\">\n",
       "  <thead>\n",
       "    <tr style=\"text-align: right;\">\n",
       "      <th></th>\n",
       "      <th>1</th>\n",
       "      <th>2</th>\n",
       "      <th>3</th>\n",
       "      <th>4</th>\n",
       "      <th>5</th>\n",
       "      <th>6</th>\n",
       "      <th>7</th>\n",
       "      <th>8</th>\n",
       "    </tr>\n",
       "    <tr>\n",
       "      <th>0</th>\n",
       "      <th></th>\n",
       "      <th></th>\n",
       "      <th></th>\n",
       "      <th></th>\n",
       "      <th></th>\n",
       "      <th></th>\n",
       "      <th></th>\n",
       "      <th></th>\n",
       "    </tr>\n",
       "  </thead>\n",
       "  <tbody>\n",
       "    <tr>\n",
       "      <th>1</th>\n",
       "      <td>88F7B33d2bcf9f5</td>\n",
       "      <td>Shelby</td>\n",
       "      <td>Terrell</td>\n",
       "      <td>Male</td>\n",
       "      <td>elijah57@example.net</td>\n",
       "      <td>001-084-906-7849x73518</td>\n",
       "      <td>1945-10-26</td>\n",
       "      <td>Games developer</td>\n",
       "    </tr>\n",
       "    <tr>\n",
       "      <th>2</th>\n",
       "      <td>f90cD3E76f1A9b9</td>\n",
       "      <td>Phillip</td>\n",
       "      <td>Summers</td>\n",
       "      <td>Female</td>\n",
       "      <td>bethany14@example.com</td>\n",
       "      <td>214.112.6044x4913</td>\n",
       "      <td>1910-03-24</td>\n",
       "      <td>Phytotherapist</td>\n",
       "    </tr>\n",
       "    <tr>\n",
       "      <th>3</th>\n",
       "      <td>DbeAb8CcdfeFC2c</td>\n",
       "      <td>Kristine</td>\n",
       "      <td>Travis</td>\n",
       "      <td>Male</td>\n",
       "      <td>bthompson@example.com</td>\n",
       "      <td>277.609.7938</td>\n",
       "      <td>1992-07-02</td>\n",
       "      <td>Homeopath</td>\n",
       "    </tr>\n",
       "  </tbody>\n",
       "</table>\n",
       "</div>"
      ],
      "text/plain": [
       "                 1         2        3       4                      5  \\\n",
       "0                                                                      \n",
       "1  88F7B33d2bcf9f5    Shelby  Terrell    Male   elijah57@example.net   \n",
       "2  f90cD3E76f1A9b9   Phillip  Summers  Female  bethany14@example.com   \n",
       "3  DbeAb8CcdfeFC2c  Kristine   Travis    Male  bthompson@example.com   \n",
       "\n",
       "                        6           7                8  \n",
       "0                                                       \n",
       "1  001-084-906-7849x73518  1945-10-26  Games developer  \n",
       "2       214.112.6044x4913  1910-03-24   Phytotherapist  \n",
       "3            277.609.7938  1992-07-02        Homeopath  "
      ]
     },
     "execution_count": 238,
     "metadata": {},
     "output_type": "execute_result"
    }
   ],
   "source": [
    "df= pd.read_csv(datadir+filename, header=None, index_col=0)\n",
    "df.head(3)"
   ]
  },
  {
   "cell_type": "code",
   "execution_count": 239,
   "id": "4ec4d302",
   "metadata": {
    "scrolled": true
   },
   "outputs": [
    {
     "data": {
      "text/html": [
       "<div>\n",
       "<style scoped>\n",
       "    .dataframe tbody tr th:only-of-type {\n",
       "        vertical-align: middle;\n",
       "    }\n",
       "\n",
       "    .dataframe tbody tr th {\n",
       "        vertical-align: top;\n",
       "    }\n",
       "\n",
       "    .dataframe thead th {\n",
       "        text-align: right;\n",
       "    }\n",
       "</style>\n",
       "<table border=\"1\" class=\"dataframe\">\n",
       "  <thead>\n",
       "    <tr style=\"text-align: right;\">\n",
       "      <th></th>\n",
       "      <th>id</th>\n",
       "      <th>firstname</th>\n",
       "      <th>lastname</th>\n",
       "      <th>sex</th>\n",
       "      <th>email</th>\n",
       "      <th>phone</th>\n",
       "      <th>DOB</th>\n",
       "      <th>occupation</th>\n",
       "    </tr>\n",
       "    <tr>\n",
       "      <th>index</th>\n",
       "      <th></th>\n",
       "      <th></th>\n",
       "      <th></th>\n",
       "      <th></th>\n",
       "      <th></th>\n",
       "      <th></th>\n",
       "      <th></th>\n",
       "      <th></th>\n",
       "    </tr>\n",
       "  </thead>\n",
       "  <tbody>\n",
       "    <tr>\n",
       "      <th>1</th>\n",
       "      <td>88F7B33d2bcf9f5</td>\n",
       "      <td>Shelby</td>\n",
       "      <td>Terrell</td>\n",
       "      <td>Male</td>\n",
       "      <td>elijah57@example.net</td>\n",
       "      <td>001-084-906-7849x73518</td>\n",
       "      <td>1945-10-26</td>\n",
       "      <td>Games developer</td>\n",
       "    </tr>\n",
       "    <tr>\n",
       "      <th>2</th>\n",
       "      <td>f90cD3E76f1A9b9</td>\n",
       "      <td>Phillip</td>\n",
       "      <td>Summers</td>\n",
       "      <td>Female</td>\n",
       "      <td>bethany14@example.com</td>\n",
       "      <td>214.112.6044x4913</td>\n",
       "      <td>1910-03-24</td>\n",
       "      <td>Phytotherapist</td>\n",
       "    </tr>\n",
       "    <tr>\n",
       "      <th>3</th>\n",
       "      <td>DbeAb8CcdfeFC2c</td>\n",
       "      <td>Kristine</td>\n",
       "      <td>Travis</td>\n",
       "      <td>Male</td>\n",
       "      <td>bthompson@example.com</td>\n",
       "      <td>277.609.7938</td>\n",
       "      <td>1992-07-02</td>\n",
       "      <td>Homeopath</td>\n",
       "    </tr>\n",
       "  </tbody>\n",
       "</table>\n",
       "</div>"
      ],
      "text/plain": [
       "                    id firstname lastname     sex                  email  \\\n",
       "index                                                                      \n",
       "1      88F7B33d2bcf9f5    Shelby  Terrell    Male   elijah57@example.net   \n",
       "2      f90cD3E76f1A9b9   Phillip  Summers  Female  bethany14@example.com   \n",
       "3      DbeAb8CcdfeFC2c  Kristine   Travis    Male  bthompson@example.com   \n",
       "\n",
       "                        phone        DOB       occupation  \n",
       "index                                                      \n",
       "1      001-084-906-7849x73518 1945-10-26  Games developer  \n",
       "2           214.112.6044x4913 1910-03-24   Phytotherapist  \n",
       "3                277.609.7938 1992-07-02        Homeopath  "
      ]
     },
     "execution_count": 239,
     "metadata": {},
     "output_type": "execute_result"
    }
   ],
   "source": [
    "names=['index','id','firstname','lastname','sex','email','phone','DOB','occupation']\n",
    "df= pd.read_csv(datadir+filename, header=None,index_col=0,names=names, parse_dates=['DOB'])\n",
    "df.head(3)\n",
    "#df.info()"
   ]
  },
  {
   "cell_type": "markdown",
   "id": "40412980",
   "metadata": {},
   "source": [
    "### Reading from https or even S3 buckets\n",
    "you can read files directly from the cloud into a Data Frame"
   ]
  },
  {
   "cell_type": "code",
   "execution_count": 240,
   "id": "9bcfbe61",
   "metadata": {},
   "outputs": [
    {
     "data": {
      "text/html": [
       "<div>\n",
       "<style scoped>\n",
       "    .dataframe tbody tr th:only-of-type {\n",
       "        vertical-align: middle;\n",
       "    }\n",
       "\n",
       "    .dataframe tbody tr th {\n",
       "        vertical-align: top;\n",
       "    }\n",
       "\n",
       "    .dataframe thead th {\n",
       "        text-align: right;\n",
       "    }\n",
       "</style>\n",
       "<table border=\"1\" class=\"dataframe\">\n",
       "  <thead>\n",
       "    <tr style=\"text-align: right;\">\n",
       "      <th></th>\n",
       "      <th>Index</th>\n",
       "      <th>Customer Id</th>\n",
       "      <th>First Name</th>\n",
       "      <th>Last Name</th>\n",
       "      <th>Company</th>\n",
       "      <th>City</th>\n",
       "      <th>Country</th>\n",
       "      <th>Phone 1</th>\n",
       "      <th>Phone 2</th>\n",
       "      <th>Email</th>\n",
       "      <th>Subscription Date</th>\n",
       "      <th>Website</th>\n",
       "    </tr>\n",
       "  </thead>\n",
       "  <tbody>\n",
       "    <tr>\n",
       "      <th>0</th>\n",
       "      <td>1</td>\n",
       "      <td>DD37Cf93aecA6Dc</td>\n",
       "      <td>Sheryl</td>\n",
       "      <td>Baxter</td>\n",
       "      <td>Rasmussen Group</td>\n",
       "      <td>East Leonard</td>\n",
       "      <td>Chile</td>\n",
       "      <td>229.077.5154</td>\n",
       "      <td>397.884.0519x718</td>\n",
       "      <td>zunigavanessa@smith.info</td>\n",
       "      <td>2020-08-24</td>\n",
       "      <td>http://www.stephenson.com/</td>\n",
       "    </tr>\n",
       "    <tr>\n",
       "      <th>1</th>\n",
       "      <td>2</td>\n",
       "      <td>1Ef7b82A4CAAD10</td>\n",
       "      <td>Preston</td>\n",
       "      <td>Lozano</td>\n",
       "      <td>Vega-Gentry</td>\n",
       "      <td>East Jimmychester</td>\n",
       "      <td>Djibouti</td>\n",
       "      <td>5153435776</td>\n",
       "      <td>686-620-1820x944</td>\n",
       "      <td>vmata@colon.com</td>\n",
       "      <td>2021-04-23</td>\n",
       "      <td>http://www.hobbs.com/</td>\n",
       "    </tr>\n",
       "    <tr>\n",
       "      <th>2</th>\n",
       "      <td>3</td>\n",
       "      <td>6F94879bDAfE5a6</td>\n",
       "      <td>Roy</td>\n",
       "      <td>Berry</td>\n",
       "      <td>Murillo-Perry</td>\n",
       "      <td>Isabelborough</td>\n",
       "      <td>Antigua and Barbuda</td>\n",
       "      <td>+1-539-402-0259</td>\n",
       "      <td>(496)978-3969x58947</td>\n",
       "      <td>beckycarr@hogan.com</td>\n",
       "      <td>2020-03-25</td>\n",
       "      <td>http://www.lawrence.com/</td>\n",
       "    </tr>\n",
       "  </tbody>\n",
       "</table>\n",
       "</div>"
      ],
      "text/plain": [
       "   Index      Customer Id First Name Last Name          Company  \\\n",
       "0      1  DD37Cf93aecA6Dc     Sheryl    Baxter  Rasmussen Group   \n",
       "1      2  1Ef7b82A4CAAD10    Preston    Lozano      Vega-Gentry   \n",
       "2      3  6F94879bDAfE5a6        Roy     Berry    Murillo-Perry   \n",
       "\n",
       "                City              Country          Phone 1  \\\n",
       "0       East Leonard                Chile     229.077.5154   \n",
       "1  East Jimmychester             Djibouti       5153435776   \n",
       "2      Isabelborough  Antigua and Barbuda  +1-539-402-0259   \n",
       "\n",
       "               Phone 2                     Email Subscription Date  \\\n",
       "0     397.884.0519x718  zunigavanessa@smith.info        2020-08-24   \n",
       "1     686-620-1820x944           vmata@colon.com        2021-04-23   \n",
       "2  (496)978-3969x58947       beckycarr@hogan.com        2020-03-25   \n",
       "\n",
       "                      Website  \n",
       "0  http://www.stephenson.com/  \n",
       "1       http://www.hobbs.com/  \n",
       "2    http://www.lawrence.com/  "
      ]
     },
     "execution_count": 240,
     "metadata": {},
     "output_type": "execute_result"
    }
   ],
   "source": [
    "df = pd.read_csv(\"https://drive.google.com/uc?id=1zO8ekHWx9U7mrbx_0Hoxxu6od7uxJqWw&export=download\")\n",
    "df.head(3)"
   ]
  },
  {
   "cell_type": "markdown",
   "id": "9670de23",
   "metadata": {},
   "source": [
    "Or even an S3 bucket\n",
    "I had to <code>pip install s3fs</code> on my machine for this to work"
   ]
  },
  {
   "cell_type": "code",
   "execution_count": 241,
   "id": "3103cd36",
   "metadata": {},
   "outputs": [
    {
     "ename": "ImportError",
     "evalue": "Install s3fs to access S3",
     "output_type": "error",
     "traceback": [
      "\u001b[31m---------------------------------------------------------------------------\u001b[39m",
      "\u001b[31mModuleNotFoundError\u001b[39m                       Traceback (most recent call last)",
      "\u001b[36mFile \u001b[39m\u001b[32m~/.local/lib/python3.12/site-packages/fsspec/registry.py:242\u001b[39m, in \u001b[36mget_filesystem_class\u001b[39m\u001b[34m(protocol)\u001b[39m\n\u001b[32m    241\u001b[39m \u001b[38;5;28;01mtry\u001b[39;00m:\n\u001b[32m--> \u001b[39m\u001b[32m242\u001b[39m     register_implementation(protocol, \u001b[43m_import_class\u001b[49m\u001b[43m(\u001b[49m\u001b[43mbit\u001b[49m\u001b[43m[\u001b[49m\u001b[33;43m\"\u001b[39;49m\u001b[33;43mclass\u001b[39;49m\u001b[33;43m\"\u001b[39;49m\u001b[43m]\u001b[49m\u001b[43m)\u001b[49m)\n\u001b[32m    243\u001b[39m \u001b[38;5;28;01mexcept\u001b[39;00m \u001b[38;5;167;01mImportError\u001b[39;00m \u001b[38;5;28;01mas\u001b[39;00m e:\n",
      "\u001b[36mFile \u001b[39m\u001b[32m~/.local/lib/python3.12/site-packages/fsspec/registry.py:277\u001b[39m, in \u001b[36m_import_class\u001b[39m\u001b[34m(fqp)\u001b[39m\n\u001b[32m    276\u001b[39m is_s3 = mod == \u001b[33m\"\u001b[39m\u001b[33ms3fs\u001b[39m\u001b[33m\"\u001b[39m\n\u001b[32m--> \u001b[39m\u001b[32m277\u001b[39m mod = \u001b[43mimportlib\u001b[49m\u001b[43m.\u001b[49m\u001b[43mimport_module\u001b[49m\u001b[43m(\u001b[49m\u001b[43mmod\u001b[49m\u001b[43m)\u001b[49m\n\u001b[32m    278\u001b[39m \u001b[38;5;28;01mif\u001b[39;00m is_s3 \u001b[38;5;129;01mand\u001b[39;00m mod.__version__.split(\u001b[33m\"\u001b[39m\u001b[33m.\u001b[39m\u001b[33m\"\u001b[39m) < [\u001b[33m\"\u001b[39m\u001b[33m0\u001b[39m\u001b[33m\"\u001b[39m, \u001b[33m\"\u001b[39m\u001b[33m5\u001b[39m\u001b[33m\"\u001b[39m]:\n",
      "\u001b[36mFile \u001b[39m\u001b[32m/usr/local/python/3.12.1/lib/python3.12/importlib/__init__.py:90\u001b[39m, in \u001b[36mimport_module\u001b[39m\u001b[34m(name, package)\u001b[39m\n\u001b[32m     89\u001b[39m         level += \u001b[32m1\u001b[39m\n\u001b[32m---> \u001b[39m\u001b[32m90\u001b[39m \u001b[38;5;28;01mreturn\u001b[39;00m \u001b[43m_bootstrap\u001b[49m\u001b[43m.\u001b[49m\u001b[43m_gcd_import\u001b[49m\u001b[43m(\u001b[49m\u001b[43mname\u001b[49m\u001b[43m[\u001b[49m\u001b[43mlevel\u001b[49m\u001b[43m:\u001b[49m\u001b[43m]\u001b[49m\u001b[43m,\u001b[49m\u001b[43m \u001b[49m\u001b[43mpackage\u001b[49m\u001b[43m,\u001b[49m\u001b[43m \u001b[49m\u001b[43mlevel\u001b[49m\u001b[43m)\u001b[49m\n",
      "\u001b[36mFile \u001b[39m\u001b[32m<frozen importlib._bootstrap>:1387\u001b[39m, in \u001b[36m_gcd_import\u001b[39m\u001b[34m(name, package, level)\u001b[39m\n",
      "\u001b[36mFile \u001b[39m\u001b[32m<frozen importlib._bootstrap>:1360\u001b[39m, in \u001b[36m_find_and_load\u001b[39m\u001b[34m(name, import_)\u001b[39m\n",
      "\u001b[36mFile \u001b[39m\u001b[32m<frozen importlib._bootstrap>:1331\u001b[39m, in \u001b[36m_find_and_load_unlocked\u001b[39m\u001b[34m(name, import_)\u001b[39m\n",
      "\u001b[36mFile \u001b[39m\u001b[32m<frozen importlib._bootstrap>:935\u001b[39m, in \u001b[36m_load_unlocked\u001b[39m\u001b[34m(spec)\u001b[39m\n",
      "\u001b[36mFile \u001b[39m\u001b[32m<frozen importlib._bootstrap_external>:994\u001b[39m, in \u001b[36mexec_module\u001b[39m\u001b[34m(self, module)\u001b[39m\n",
      "\u001b[36mFile \u001b[39m\u001b[32m<frozen importlib._bootstrap>:488\u001b[39m, in \u001b[36m_call_with_frames_removed\u001b[39m\u001b[34m(f, *args, **kwds)\u001b[39m\n",
      "\u001b[36mFile \u001b[39m\u001b[32m/usr/local/python/3.12.1/lib/python3.12/site-packages/s3fs/__init__.py:1\u001b[39m\n\u001b[32m----> \u001b[39m\u001b[32m1\u001b[39m \u001b[38;5;28;01mfrom\u001b[39;00m\u001b[38;5;250m \u001b[39m\u001b[34;01m.\u001b[39;00m\u001b[34;01mcore\u001b[39;00m\u001b[38;5;250m \u001b[39m\u001b[38;5;28;01mimport\u001b[39;00m S3FileSystem, S3File\n\u001b[32m      2\u001b[39m \u001b[38;5;28;01mfrom\u001b[39;00m\u001b[38;5;250m \u001b[39m\u001b[34;01m.\u001b[39;00m\u001b[34;01mmapping\u001b[39;00m\u001b[38;5;250m \u001b[39m\u001b[38;5;28;01mimport\u001b[39;00m S3Map\n",
      "\u001b[36mFile \u001b[39m\u001b[32m/usr/local/python/3.12.1/lib/python3.12/site-packages/s3fs/core.py:18\u001b[39m\n\u001b[32m     17\u001b[39m \u001b[38;5;28;01mfrom\u001b[39;00m\u001b[38;5;250m \u001b[39m\u001b[34;01mfsspec\u001b[39;00m\u001b[34;01m.\u001b[39;00m\u001b[34;01mutils\u001b[39;00m\u001b[38;5;250m \u001b[39m\u001b[38;5;28;01mimport\u001b[39;00m tokenize, setup_logging \u001b[38;5;28;01mas\u001b[39;00m setup_logger\n\u001b[32m---> \u001b[39m\u001b[32m18\u001b[39m \u001b[38;5;28;01mfrom\u001b[39;00m\u001b[38;5;250m \u001b[39m\u001b[34;01mfsspec\u001b[39;00m\u001b[34;01m.\u001b[39;00m\u001b[34;01masyn\u001b[39;00m\u001b[38;5;250m \u001b[39m\u001b[38;5;28;01mimport\u001b[39;00m (\n\u001b[32m     19\u001b[39m     AsyncFileSystem,\n\u001b[32m     20\u001b[39m     AbstractAsyncStreamedFile,\n\u001b[32m     21\u001b[39m     sync,\n\u001b[32m     22\u001b[39m     sync_wrapper,\n\u001b[32m     23\u001b[39m     FSTimeoutError,\n\u001b[32m     24\u001b[39m     _run_coros_in_chunks,\n\u001b[32m     25\u001b[39m )\n\u001b[32m     26\u001b[39m \u001b[38;5;28;01mfrom\u001b[39;00m\u001b[38;5;250m \u001b[39m\u001b[34;01mfsspec\u001b[39;00m\u001b[34;01m.\u001b[39;00m\u001b[34;01mcallbacks\u001b[39;00m\u001b[38;5;250m \u001b[39m\u001b[38;5;28;01mimport\u001b[39;00m _DEFAULT_CALLBACK\n",
      "\u001b[31mModuleNotFoundError\u001b[39m: No module named 'fsspec.asyn'",
      "\nThe above exception was the direct cause of the following exception:\n",
      "\u001b[31mImportError\u001b[39m                               Traceback (most recent call last)",
      "\u001b[36mCell\u001b[39m\u001b[36m \u001b[39m\u001b[32mIn[241]\u001b[39m\u001b[32m, line 5\u001b[39m\n\u001b[32m      1\u001b[39m \u001b[38;5;66;03m# It can take a while to find a file you want\u001b[39;00m\n\u001b[32m      2\u001b[39m \u001b[38;5;66;03m# this file contains weather info for phoenix in 2020\u001b[39;00m\n\u001b[32m      3\u001b[39m remote_file = \u001b[33m\"\u001b[39m\u001b[33ms3://noaa-gsod-pds/2020/72278023183.csv\u001b[39m\u001b[33m\"\u001b[39m\n\u001b[32m----> \u001b[39m\u001b[32m5\u001b[39m df = \u001b[43mpd\u001b[49m\u001b[43m.\u001b[49m\u001b[43mread_csv\u001b[49m\u001b[43m(\u001b[49m\u001b[43m \u001b[49m\u001b[43mremote_file\u001b[49m\u001b[43m,\u001b[49m\u001b[43m \u001b[49m\u001b[43mstorage_options\u001b[49m\u001b[43m=\u001b[49m\u001b[43m{\u001b[49m\u001b[33;43m\"\u001b[39;49m\u001b[33;43manon\u001b[39;49m\u001b[33;43m\"\u001b[39;49m\u001b[43m:\u001b[49m\u001b[43m \u001b[49m\u001b[38;5;28;43;01mTrue\u001b[39;49;00m\u001b[43m}\u001b[49m\u001b[43m)\u001b[49m\n\u001b[32m      6\u001b[39m df.head(\u001b[32m3\u001b[39m)\n",
      "\u001b[36mFile \u001b[39m\u001b[32m~/.local/lib/python3.12/site-packages/pandas/io/parsers/readers.py:1026\u001b[39m, in \u001b[36mread_csv\u001b[39m\u001b[34m(filepath_or_buffer, sep, delimiter, header, names, index_col, usecols, dtype, engine, converters, true_values, false_values, skipinitialspace, skiprows, skipfooter, nrows, na_values, keep_default_na, na_filter, verbose, skip_blank_lines, parse_dates, infer_datetime_format, keep_date_col, date_parser, date_format, dayfirst, cache_dates, iterator, chunksize, compression, thousands, decimal, lineterminator, quotechar, quoting, doublequote, escapechar, comment, encoding, encoding_errors, dialect, on_bad_lines, delim_whitespace, low_memory, memory_map, float_precision, storage_options, dtype_backend)\u001b[39m\n\u001b[32m   1013\u001b[39m kwds_defaults = _refine_defaults_read(\n\u001b[32m   1014\u001b[39m     dialect,\n\u001b[32m   1015\u001b[39m     delimiter,\n\u001b[32m   (...)\u001b[39m\u001b[32m   1022\u001b[39m     dtype_backend=dtype_backend,\n\u001b[32m   1023\u001b[39m )\n\u001b[32m   1024\u001b[39m kwds.update(kwds_defaults)\n\u001b[32m-> \u001b[39m\u001b[32m1026\u001b[39m \u001b[38;5;28;01mreturn\u001b[39;00m \u001b[43m_read\u001b[49m\u001b[43m(\u001b[49m\u001b[43mfilepath_or_buffer\u001b[49m\u001b[43m,\u001b[49m\u001b[43m \u001b[49m\u001b[43mkwds\u001b[49m\u001b[43m)\u001b[49m\n",
      "\u001b[36mFile \u001b[39m\u001b[32m~/.local/lib/python3.12/site-packages/pandas/io/parsers/readers.py:620\u001b[39m, in \u001b[36m_read\u001b[39m\u001b[34m(filepath_or_buffer, kwds)\u001b[39m\n\u001b[32m    617\u001b[39m _validate_names(kwds.get(\u001b[33m\"\u001b[39m\u001b[33mnames\u001b[39m\u001b[33m\"\u001b[39m, \u001b[38;5;28;01mNone\u001b[39;00m))\n\u001b[32m    619\u001b[39m \u001b[38;5;66;03m# Create the parser.\u001b[39;00m\n\u001b[32m--> \u001b[39m\u001b[32m620\u001b[39m parser = \u001b[43mTextFileReader\u001b[49m\u001b[43m(\u001b[49m\u001b[43mfilepath_or_buffer\u001b[49m\u001b[43m,\u001b[49m\u001b[43m \u001b[49m\u001b[43m*\u001b[49m\u001b[43m*\u001b[49m\u001b[43mkwds\u001b[49m\u001b[43m)\u001b[49m\n\u001b[32m    622\u001b[39m \u001b[38;5;28;01mif\u001b[39;00m chunksize \u001b[38;5;129;01mor\u001b[39;00m iterator:\n\u001b[32m    623\u001b[39m     \u001b[38;5;28;01mreturn\u001b[39;00m parser\n",
      "\u001b[36mFile \u001b[39m\u001b[32m~/.local/lib/python3.12/site-packages/pandas/io/parsers/readers.py:1620\u001b[39m, in \u001b[36mTextFileReader.__init__\u001b[39m\u001b[34m(self, f, engine, **kwds)\u001b[39m\n\u001b[32m   1617\u001b[39m     \u001b[38;5;28mself\u001b[39m.options[\u001b[33m\"\u001b[39m\u001b[33mhas_index_names\u001b[39m\u001b[33m\"\u001b[39m] = kwds[\u001b[33m\"\u001b[39m\u001b[33mhas_index_names\u001b[39m\u001b[33m\"\u001b[39m]\n\u001b[32m   1619\u001b[39m \u001b[38;5;28mself\u001b[39m.handles: IOHandles | \u001b[38;5;28;01mNone\u001b[39;00m = \u001b[38;5;28;01mNone\u001b[39;00m\n\u001b[32m-> \u001b[39m\u001b[32m1620\u001b[39m \u001b[38;5;28mself\u001b[39m._engine = \u001b[38;5;28;43mself\u001b[39;49m\u001b[43m.\u001b[49m\u001b[43m_make_engine\u001b[49m\u001b[43m(\u001b[49m\u001b[43mf\u001b[49m\u001b[43m,\u001b[49m\u001b[43m \u001b[49m\u001b[38;5;28;43mself\u001b[39;49m\u001b[43m.\u001b[49m\u001b[43mengine\u001b[49m\u001b[43m)\u001b[49m\n",
      "\u001b[36mFile \u001b[39m\u001b[32m~/.local/lib/python3.12/site-packages/pandas/io/parsers/readers.py:1880\u001b[39m, in \u001b[36mTextFileReader._make_engine\u001b[39m\u001b[34m(self, f, engine)\u001b[39m\n\u001b[32m   1878\u001b[39m     \u001b[38;5;28;01mif\u001b[39;00m \u001b[33m\"\u001b[39m\u001b[33mb\u001b[39m\u001b[33m\"\u001b[39m \u001b[38;5;129;01mnot\u001b[39;00m \u001b[38;5;129;01min\u001b[39;00m mode:\n\u001b[32m   1879\u001b[39m         mode += \u001b[33m\"\u001b[39m\u001b[33mb\u001b[39m\u001b[33m\"\u001b[39m\n\u001b[32m-> \u001b[39m\u001b[32m1880\u001b[39m \u001b[38;5;28mself\u001b[39m.handles = \u001b[43mget_handle\u001b[49m\u001b[43m(\u001b[49m\n\u001b[32m   1881\u001b[39m \u001b[43m    \u001b[49m\u001b[43mf\u001b[49m\u001b[43m,\u001b[49m\n\u001b[32m   1882\u001b[39m \u001b[43m    \u001b[49m\u001b[43mmode\u001b[49m\u001b[43m,\u001b[49m\n\u001b[32m   1883\u001b[39m \u001b[43m    \u001b[49m\u001b[43mencoding\u001b[49m\u001b[43m=\u001b[49m\u001b[38;5;28;43mself\u001b[39;49m\u001b[43m.\u001b[49m\u001b[43moptions\u001b[49m\u001b[43m.\u001b[49m\u001b[43mget\u001b[49m\u001b[43m(\u001b[49m\u001b[33;43m\"\u001b[39;49m\u001b[33;43mencoding\u001b[39;49m\u001b[33;43m\"\u001b[39;49m\u001b[43m,\u001b[49m\u001b[43m \u001b[49m\u001b[38;5;28;43;01mNone\u001b[39;49;00m\u001b[43m)\u001b[49m\u001b[43m,\u001b[49m\n\u001b[32m   1884\u001b[39m \u001b[43m    \u001b[49m\u001b[43mcompression\u001b[49m\u001b[43m=\u001b[49m\u001b[38;5;28;43mself\u001b[39;49m\u001b[43m.\u001b[49m\u001b[43moptions\u001b[49m\u001b[43m.\u001b[49m\u001b[43mget\u001b[49m\u001b[43m(\u001b[49m\u001b[33;43m\"\u001b[39;49m\u001b[33;43mcompression\u001b[39;49m\u001b[33;43m\"\u001b[39;49m\u001b[43m,\u001b[49m\u001b[43m \u001b[49m\u001b[38;5;28;43;01mNone\u001b[39;49;00m\u001b[43m)\u001b[49m\u001b[43m,\u001b[49m\n\u001b[32m   1885\u001b[39m \u001b[43m    \u001b[49m\u001b[43mmemory_map\u001b[49m\u001b[43m=\u001b[49m\u001b[38;5;28;43mself\u001b[39;49m\u001b[43m.\u001b[49m\u001b[43moptions\u001b[49m\u001b[43m.\u001b[49m\u001b[43mget\u001b[49m\u001b[43m(\u001b[49m\u001b[33;43m\"\u001b[39;49m\u001b[33;43mmemory_map\u001b[39;49m\u001b[33;43m\"\u001b[39;49m\u001b[43m,\u001b[49m\u001b[43m \u001b[49m\u001b[38;5;28;43;01mFalse\u001b[39;49;00m\u001b[43m)\u001b[49m\u001b[43m,\u001b[49m\n\u001b[32m   1886\u001b[39m \u001b[43m    \u001b[49m\u001b[43mis_text\u001b[49m\u001b[43m=\u001b[49m\u001b[43mis_text\u001b[49m\u001b[43m,\u001b[49m\n\u001b[32m   1887\u001b[39m \u001b[43m    \u001b[49m\u001b[43merrors\u001b[49m\u001b[43m=\u001b[49m\u001b[38;5;28;43mself\u001b[39;49m\u001b[43m.\u001b[49m\u001b[43moptions\u001b[49m\u001b[43m.\u001b[49m\u001b[43mget\u001b[49m\u001b[43m(\u001b[49m\u001b[33;43m\"\u001b[39;49m\u001b[33;43mencoding_errors\u001b[39;49m\u001b[33;43m\"\u001b[39;49m\u001b[43m,\u001b[49m\u001b[43m \u001b[49m\u001b[33;43m\"\u001b[39;49m\u001b[33;43mstrict\u001b[39;49m\u001b[33;43m\"\u001b[39;49m\u001b[43m)\u001b[49m\u001b[43m,\u001b[49m\n\u001b[32m   1888\u001b[39m \u001b[43m    \u001b[49m\u001b[43mstorage_options\u001b[49m\u001b[43m=\u001b[49m\u001b[38;5;28;43mself\u001b[39;49m\u001b[43m.\u001b[49m\u001b[43moptions\u001b[49m\u001b[43m.\u001b[49m\u001b[43mget\u001b[49m\u001b[43m(\u001b[49m\u001b[33;43m\"\u001b[39;49m\u001b[33;43mstorage_options\u001b[39;49m\u001b[33;43m\"\u001b[39;49m\u001b[43m,\u001b[49m\u001b[43m \u001b[49m\u001b[38;5;28;43;01mNone\u001b[39;49;00m\u001b[43m)\u001b[49m\u001b[43m,\u001b[49m\n\u001b[32m   1889\u001b[39m \u001b[43m\u001b[49m\u001b[43m)\u001b[49m\n\u001b[32m   1890\u001b[39m \u001b[38;5;28;01massert\u001b[39;00m \u001b[38;5;28mself\u001b[39m.handles \u001b[38;5;129;01mis\u001b[39;00m \u001b[38;5;129;01mnot\u001b[39;00m \u001b[38;5;28;01mNone\u001b[39;00m\n\u001b[32m   1891\u001b[39m f = \u001b[38;5;28mself\u001b[39m.handles.handle\n",
      "\u001b[36mFile \u001b[39m\u001b[32m~/.local/lib/python3.12/site-packages/pandas/io/common.py:728\u001b[39m, in \u001b[36mget_handle\u001b[39m\u001b[34m(path_or_buf, mode, encoding, compression, memory_map, is_text, errors, storage_options)\u001b[39m\n\u001b[32m    725\u001b[39m     codecs.lookup_error(errors)\n\u001b[32m    727\u001b[39m \u001b[38;5;66;03m# open URLs\u001b[39;00m\n\u001b[32m--> \u001b[39m\u001b[32m728\u001b[39m ioargs = \u001b[43m_get_filepath_or_buffer\u001b[49m\u001b[43m(\u001b[49m\n\u001b[32m    729\u001b[39m \u001b[43m    \u001b[49m\u001b[43mpath_or_buf\u001b[49m\u001b[43m,\u001b[49m\n\u001b[32m    730\u001b[39m \u001b[43m    \u001b[49m\u001b[43mencoding\u001b[49m\u001b[43m=\u001b[49m\u001b[43mencoding\u001b[49m\u001b[43m,\u001b[49m\n\u001b[32m    731\u001b[39m \u001b[43m    \u001b[49m\u001b[43mcompression\u001b[49m\u001b[43m=\u001b[49m\u001b[43mcompression\u001b[49m\u001b[43m,\u001b[49m\n\u001b[32m    732\u001b[39m \u001b[43m    \u001b[49m\u001b[43mmode\u001b[49m\u001b[43m=\u001b[49m\u001b[43mmode\u001b[49m\u001b[43m,\u001b[49m\n\u001b[32m    733\u001b[39m \u001b[43m    \u001b[49m\u001b[43mstorage_options\u001b[49m\u001b[43m=\u001b[49m\u001b[43mstorage_options\u001b[49m\u001b[43m,\u001b[49m\n\u001b[32m    734\u001b[39m \u001b[43m\u001b[49m\u001b[43m)\u001b[49m\n\u001b[32m    736\u001b[39m handle = ioargs.filepath_or_buffer\n\u001b[32m    737\u001b[39m handles: \u001b[38;5;28mlist\u001b[39m[BaseBuffer]\n",
      "\u001b[36mFile \u001b[39m\u001b[32m~/.local/lib/python3.12/site-packages/pandas/io/common.py:430\u001b[39m, in \u001b[36m_get_filepath_or_buffer\u001b[39m\u001b[34m(filepath_or_buffer, encoding, compression, mode, storage_options)\u001b[39m\n\u001b[32m    427\u001b[39m     \u001b[38;5;28;01mpass\u001b[39;00m\n\u001b[32m    429\u001b[39m \u001b[38;5;28;01mtry\u001b[39;00m:\n\u001b[32m--> \u001b[39m\u001b[32m430\u001b[39m     file_obj = \u001b[43mfsspec\u001b[49m\u001b[43m.\u001b[49m\u001b[43mopen\u001b[49m\u001b[43m(\u001b[49m\n\u001b[32m    431\u001b[39m \u001b[43m        \u001b[49m\u001b[43mfilepath_or_buffer\u001b[49m\u001b[43m,\u001b[49m\u001b[43m \u001b[49m\u001b[43mmode\u001b[49m\u001b[43m=\u001b[49m\u001b[43mfsspec_mode\u001b[49m\u001b[43m,\u001b[49m\u001b[43m \u001b[49m\u001b[43m*\u001b[49m\u001b[43m*\u001b[49m\u001b[43m(\u001b[49m\u001b[43mstorage_options\u001b[49m\u001b[43m \u001b[49m\u001b[38;5;129;43;01mor\u001b[39;49;00m\u001b[43m \u001b[49m\u001b[43m{\u001b[49m\u001b[43m}\u001b[49m\u001b[43m)\u001b[49m\n\u001b[32m    432\u001b[39m \u001b[43m    \u001b[49m\u001b[43m)\u001b[49m.open()\n\u001b[32m    433\u001b[39m \u001b[38;5;66;03m# GH 34626 Reads from Public Buckets without Credentials needs anon=True\u001b[39;00m\n\u001b[32m    434\u001b[39m \u001b[38;5;28;01mexcept\u001b[39;00m \u001b[38;5;28mtuple\u001b[39m(err_types_to_retry_with_anon):\n",
      "\u001b[36mFile \u001b[39m\u001b[32m~/.local/lib/python3.12/site-packages/fsspec/core.py:484\u001b[39m, in \u001b[36mopen\u001b[39m\u001b[34m(urlpath, mode, compression, encoding, errors, protocol, newline, expand, **kwargs)\u001b[39m\n\u001b[32m    426\u001b[39m \u001b[38;5;250m\u001b[39m\u001b[33;03m\"\"\"Given a path or paths, return one ``OpenFile`` object.\u001b[39;00m\n\u001b[32m    427\u001b[39m \n\u001b[32m    428\u001b[39m \u001b[33;03mParameters\u001b[39;00m\n\u001b[32m   (...)\u001b[39m\u001b[32m    481\u001b[39m \u001b[33;03m  https://filesystem-spec.readthedocs.io/en/latest/api.html#other-known-implementations\u001b[39;00m\n\u001b[32m    482\u001b[39m \u001b[33;03m\"\"\"\u001b[39;00m\n\u001b[32m    483\u001b[39m expand = DEFAULT_EXPAND \u001b[38;5;28;01mif\u001b[39;00m expand \u001b[38;5;129;01mis\u001b[39;00m \u001b[38;5;28;01mNone\u001b[39;00m \u001b[38;5;28;01melse\u001b[39;00m expand\n\u001b[32m--> \u001b[39m\u001b[32m484\u001b[39m out = \u001b[43mopen_files\u001b[49m\u001b[43m(\u001b[49m\n\u001b[32m    485\u001b[39m \u001b[43m    \u001b[49m\u001b[43murlpath\u001b[49m\u001b[43m=\u001b[49m\u001b[43m[\u001b[49m\u001b[43murlpath\u001b[49m\u001b[43m]\u001b[49m\u001b[43m,\u001b[49m\n\u001b[32m    486\u001b[39m \u001b[43m    \u001b[49m\u001b[43mmode\u001b[49m\u001b[43m=\u001b[49m\u001b[43mmode\u001b[49m\u001b[43m,\u001b[49m\n\u001b[32m    487\u001b[39m \u001b[43m    \u001b[49m\u001b[43mcompression\u001b[49m\u001b[43m=\u001b[49m\u001b[43mcompression\u001b[49m\u001b[43m,\u001b[49m\n\u001b[32m    488\u001b[39m \u001b[43m    \u001b[49m\u001b[43mencoding\u001b[49m\u001b[43m=\u001b[49m\u001b[43mencoding\u001b[49m\u001b[43m,\u001b[49m\n\u001b[32m    489\u001b[39m \u001b[43m    \u001b[49m\u001b[43merrors\u001b[49m\u001b[43m=\u001b[49m\u001b[43merrors\u001b[49m\u001b[43m,\u001b[49m\n\u001b[32m    490\u001b[39m \u001b[43m    \u001b[49m\u001b[43mprotocol\u001b[49m\u001b[43m=\u001b[49m\u001b[43mprotocol\u001b[49m\u001b[43m,\u001b[49m\n\u001b[32m    491\u001b[39m \u001b[43m    \u001b[49m\u001b[43mnewline\u001b[49m\u001b[43m=\u001b[49m\u001b[43mnewline\u001b[49m\u001b[43m,\u001b[49m\n\u001b[32m    492\u001b[39m \u001b[43m    \u001b[49m\u001b[43mexpand\u001b[49m\u001b[43m=\u001b[49m\u001b[43mexpand\u001b[49m\u001b[43m,\u001b[49m\n\u001b[32m    493\u001b[39m \u001b[43m    \u001b[49m\u001b[43m*\u001b[49m\u001b[43m*\u001b[49m\u001b[43mkwargs\u001b[49m\u001b[43m,\u001b[49m\n\u001b[32m    494\u001b[39m \u001b[43m\u001b[49m\u001b[43m)\u001b[49m\n\u001b[32m    495\u001b[39m \u001b[38;5;28;01mif\u001b[39;00m \u001b[38;5;129;01mnot\u001b[39;00m out:\n\u001b[32m    496\u001b[39m     \u001b[38;5;28;01mraise\u001b[39;00m \u001b[38;5;167;01mFileNotFoundError\u001b[39;00m(urlpath)\n",
      "\u001b[36mFile \u001b[39m\u001b[32m~/.local/lib/python3.12/site-packages/fsspec/core.py:295\u001b[39m, in \u001b[36mopen_files\u001b[39m\u001b[34m(urlpath, mode, compression, encoding, errors, name_function, num, protocol, newline, auto_mkdir, expand, **kwargs)\u001b[39m\n\u001b[32m    216\u001b[39m \u001b[38;5;28;01mdef\u001b[39;00m\u001b[38;5;250m \u001b[39m\u001b[34mopen_files\u001b[39m(\n\u001b[32m    217\u001b[39m     urlpath,\n\u001b[32m    218\u001b[39m     mode=\u001b[33m\"\u001b[39m\u001b[33mrb\u001b[39m\u001b[33m\"\u001b[39m,\n\u001b[32m   (...)\u001b[39m\u001b[32m    228\u001b[39m     **kwargs,\n\u001b[32m    229\u001b[39m ):\n\u001b[32m    230\u001b[39m \u001b[38;5;250m    \u001b[39m\u001b[33;03m\"\"\"Given a path or paths, return a list of ``OpenFile`` objects.\u001b[39;00m\n\u001b[32m    231\u001b[39m \n\u001b[32m    232\u001b[39m \u001b[33;03m    For writing, a str path must contain the \"*\" character, which will be filled\u001b[39;00m\n\u001b[32m   (...)\u001b[39m\u001b[32m    293\u001b[39m \u001b[33;03m      https://filesystem-spec.readthedocs.io/en/latest/api.html#other-known-implementations\u001b[39;00m\n\u001b[32m    294\u001b[39m \u001b[33;03m    \"\"\"\u001b[39;00m\n\u001b[32m--> \u001b[39m\u001b[32m295\u001b[39m     fs, fs_token, paths = \u001b[43mget_fs_token_paths\u001b[49m\u001b[43m(\u001b[49m\n\u001b[32m    296\u001b[39m \u001b[43m        \u001b[49m\u001b[43murlpath\u001b[49m\u001b[43m,\u001b[49m\n\u001b[32m    297\u001b[39m \u001b[43m        \u001b[49m\u001b[43mmode\u001b[49m\u001b[43m,\u001b[49m\n\u001b[32m    298\u001b[39m \u001b[43m        \u001b[49m\u001b[43mnum\u001b[49m\u001b[43m=\u001b[49m\u001b[43mnum\u001b[49m\u001b[43m,\u001b[49m\n\u001b[32m    299\u001b[39m \u001b[43m        \u001b[49m\u001b[43mname_function\u001b[49m\u001b[43m=\u001b[49m\u001b[43mname_function\u001b[49m\u001b[43m,\u001b[49m\n\u001b[32m    300\u001b[39m \u001b[43m        \u001b[49m\u001b[43mstorage_options\u001b[49m\u001b[43m=\u001b[49m\u001b[43mkwargs\u001b[49m\u001b[43m,\u001b[49m\n\u001b[32m    301\u001b[39m \u001b[43m        \u001b[49m\u001b[43mprotocol\u001b[49m\u001b[43m=\u001b[49m\u001b[43mprotocol\u001b[49m\u001b[43m,\u001b[49m\n\u001b[32m    302\u001b[39m \u001b[43m        \u001b[49m\u001b[43mexpand\u001b[49m\u001b[43m=\u001b[49m\u001b[43mexpand\u001b[49m\u001b[43m,\u001b[49m\n\u001b[32m    303\u001b[39m \u001b[43m    \u001b[49m\u001b[43m)\u001b[49m\n\u001b[32m    304\u001b[39m     \u001b[38;5;28;01mif\u001b[39;00m fs.protocol == \u001b[33m\"\u001b[39m\u001b[33mfile\u001b[39m\u001b[33m\"\u001b[39m:\n\u001b[32m    305\u001b[39m         fs.auto_mkdir = auto_mkdir\n",
      "\u001b[36mFile \u001b[39m\u001b[32m~/.local/lib/python3.12/site-packages/fsspec/core.py:648\u001b[39m, in \u001b[36mget_fs_token_paths\u001b[39m\u001b[34m(urlpath, mode, num, name_function, storage_options, protocol, expand)\u001b[39m\n\u001b[32m    646\u001b[39m \u001b[38;5;28;01mif\u001b[39;00m protocol:\n\u001b[32m    647\u001b[39m     storage_options[\u001b[33m\"\u001b[39m\u001b[33mprotocol\u001b[39m\u001b[33m\"\u001b[39m] = protocol\n\u001b[32m--> \u001b[39m\u001b[32m648\u001b[39m chain = \u001b[43m_un_chain\u001b[49m\u001b[43m(\u001b[49m\u001b[43murlpath0\u001b[49m\u001b[43m,\u001b[49m\u001b[43m \u001b[49m\u001b[43mstorage_options\u001b[49m\u001b[43m \u001b[49m\u001b[38;5;129;43;01mor\u001b[39;49;00m\u001b[43m \u001b[49m\u001b[43m{\u001b[49m\u001b[43m}\u001b[49m\u001b[43m)\u001b[49m\n\u001b[32m    649\u001b[39m inkwargs = {}\n\u001b[32m    650\u001b[39m \u001b[38;5;66;03m# Reverse iterate the chain, creating a nested target_* structure\u001b[39;00m\n",
      "\u001b[36mFile \u001b[39m\u001b[32m~/.local/lib/python3.12/site-packages/fsspec/core.py:344\u001b[39m, in \u001b[36m_un_chain\u001b[39m\u001b[34m(path, kwargs)\u001b[39m\n\u001b[32m    342\u001b[39m \u001b[38;5;28;01mfor\u001b[39;00m bit \u001b[38;5;129;01min\u001b[39;00m \u001b[38;5;28mreversed\u001b[39m(bits):\n\u001b[32m    343\u001b[39m     protocol = kwargs.pop(\u001b[33m\"\u001b[39m\u001b[33mprotocol\u001b[39m\u001b[33m\"\u001b[39m, \u001b[38;5;28;01mNone\u001b[39;00m) \u001b[38;5;129;01mor\u001b[39;00m split_protocol(bit)[\u001b[32m0\u001b[39m] \u001b[38;5;129;01mor\u001b[39;00m \u001b[33m\"\u001b[39m\u001b[33mfile\u001b[39m\u001b[33m\"\u001b[39m\n\u001b[32m--> \u001b[39m\u001b[32m344\u001b[39m     \u001b[38;5;28mcls\u001b[39m = \u001b[43mget_filesystem_class\u001b[49m\u001b[43m(\u001b[49m\u001b[43mprotocol\u001b[49m\u001b[43m)\u001b[49m\n\u001b[32m    345\u001b[39m     extra_kwargs = \u001b[38;5;28mcls\u001b[39m._get_kwargs_from_urls(bit)\n\u001b[32m    346\u001b[39m     kws = kwargs.pop(protocol, {})\n",
      "\u001b[36mFile \u001b[39m\u001b[32m~/.local/lib/python3.12/site-packages/fsspec/registry.py:244\u001b[39m, in \u001b[36mget_filesystem_class\u001b[39m\u001b[34m(protocol)\u001b[39m\n\u001b[32m    242\u001b[39m         register_implementation(protocol, _import_class(bit[\u001b[33m\"\u001b[39m\u001b[33mclass\u001b[39m\u001b[33m\"\u001b[39m]))\n\u001b[32m    243\u001b[39m     \u001b[38;5;28;01mexcept\u001b[39;00m \u001b[38;5;167;01mImportError\u001b[39;00m \u001b[38;5;28;01mas\u001b[39;00m e:\n\u001b[32m--> \u001b[39m\u001b[32m244\u001b[39m         \u001b[38;5;28;01mraise\u001b[39;00m \u001b[38;5;167;01mImportError\u001b[39;00m(bit[\u001b[33m\"\u001b[39m\u001b[33merr\u001b[39m\u001b[33m\"\u001b[39m]) \u001b[38;5;28;01mfrom\u001b[39;00m\u001b[38;5;250m \u001b[39m\u001b[34;01me\u001b[39;00m\n\u001b[32m    245\u001b[39m \u001b[38;5;28mcls\u001b[39m = registry[protocol]\n\u001b[32m    246\u001b[39m \u001b[38;5;28;01mif\u001b[39;00m \u001b[38;5;28mgetattr\u001b[39m(\u001b[38;5;28mcls\u001b[39m, \u001b[33m\"\u001b[39m\u001b[33mprotocol\u001b[39m\u001b[33m\"\u001b[39m, \u001b[38;5;28;01mNone\u001b[39;00m) \u001b[38;5;129;01min\u001b[39;00m (\u001b[33m\"\u001b[39m\u001b[33mabstract\u001b[39m\u001b[33m\"\u001b[39m, \u001b[38;5;28;01mNone\u001b[39;00m):\n",
      "\u001b[31mImportError\u001b[39m: Install s3fs to access S3"
     ]
    }
   ],
   "source": [
    "# It can take a while to find a file you want\n",
    "# this file contains weather info for phoenix in 2020\n",
    "remote_file = \"s3://noaa-gsod-pds/2020/72278023183.csv\"\n",
    "\n",
    "df = pd.read_csv( remote_file, storage_options={\"anon\": True})\n",
    "df.head(3)"
   ]
  },
  {
   "cell_type": "markdown",
   "id": "c00ce3a8",
   "metadata": {},
   "source": [
    "## Writing data\n",
    "\n",
    "if I do not know a data set I like to write it out to an Excel file so that I can inspect it"
   ]
  },
  {
   "cell_type": "code",
   "execution_count": null,
   "id": "d587122c",
   "metadata": {},
   "outputs": [],
   "source": [
    "workbookFileName = 's3Data.xlsx'\n",
    "#df.to_excel(workbookFileName, sheet_name='phoenix', index=False)"
   ]
  },
  {
   "cell_type": "markdown",
   "id": "35a1ed41",
   "metadata": {},
   "source": [
    "More information on the PANDAS documenation\n",
    "https://pandas.pydata.org/pandas-docs/stable/user_guide/io.html#io-excel-writer"
   ]
  },
  {
   "cell_type": "code",
   "execution_count": null,
   "id": "0e0e1934",
   "metadata": {},
   "outputs": [],
   "source": []
  }
 ],
 "metadata": {
  "kernelspec": {
   "display_name": "Python 3",
   "language": "python",
   "name": "python3"
  },
  "language_info": {
   "codemirror_mode": {
    "name": "ipython",
    "version": 3
   },
   "file_extension": ".py",
   "mimetype": "text/x-python",
   "name": "python",
   "nbconvert_exporter": "python",
   "pygments_lexer": "ipython3",
   "version": "3.12.1"
  }
 },
 "nbformat": 4,
 "nbformat_minor": 5
}
